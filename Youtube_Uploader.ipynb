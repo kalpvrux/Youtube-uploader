{
  "nbformat": 4,
  "nbformat_minor": 0,
  "metadata": {
    "colab": {
      "provenance": [],
      "authorship_tag": "ABX9TyPER4cBpMirnglu7Mv/eIxN",
      "include_colab_link": true
    },
    "kernelspec": {
      "name": "python3",
      "display_name": "Python 3"
    },
    "language_info": {
      "name": "python"
    }
  },
  "cells": [
    {
      "cell_type": "markdown",
      "metadata": {
        "id": "view-in-github",
        "colab_type": "text"
      },
      "source": [
        "<a href=\"https://colab.research.google.com/github/kalpvrux/Youtube-uploader/blob/main/Youtube_Uploader.ipynb\" target=\"_parent\"><img src=\"https://colab.research.google.com/assets/colab-badge.svg\" alt=\"Open In Colab\"/></a>"
      ]
    },
    {
      "cell_type": "code",
      "execution_count": null,
      "metadata": {
        "id": "mujkmDFaTPW9"
      },
      "outputs": [],
      "source": [
        "#@title #Run this cell to install dependencies\n",
        "!git clone https://github.com/kalpvrux/Youtube-uploader.git"
      ]
    },
    {
      "cell_type": "code",
      "execution_count": null,
      "metadata": {
        "id": "nuyNmDQeuqSF"
      },
      "outputs": [],
      "source": [
        "#@title #Run this cell whenever you want to upload videos in current session.\n",
        "!python /content/Youtube-uploader/uploader.py"
      ]
    }
  ]
}